{
 "cells": [
  {
   "cell_type": "markdown",
   "id": "9a33e5d8",
   "metadata": {},
   "source": [
    "# **Day 3 — Baselines & Metrics**\n",
    "\n",
    "**Goals:**\n",
    "- Load processed features from `data/day3_features.csv`\n",
    "- Establish a baseline (majority class)\n",
    "- Train logistic regression (scikit-learn)\n",
    "- Evaluate: accuracy, confusion matrix, ROC-AUC, PR-AUC\n",
    "- Tune decision threshold for F1"
   ]
  },
  {
   "cell_type": "code",
   "execution_count": 64,
   "id": "939e27a6",
   "metadata": {},
   "outputs": [
    {
     "name": "stdout",
     "output_type": "stream",
     "text": [
      "Python: 3.13.7\n"
     ]
    }
   ],
   "source": [
    "import sys, os\n",
    "import numpy as np\n",
    "import pandas as pd\n",
    "import matplotlib.pyplot as plt\n",
    "\n",
    "from sklearn.dummy import DummyClassifier\n",
    "from sklearn.linear_model import LogisticRegression\n",
    "from sklearn.metrics import (\n",
    "    accuracy_score, confusion_matrix, classification_report,\n",
    "    roc_curve, auc, precision_recall_curve, average_precision_score, f1_score\n",
    ")\n",
    "\n",
    "rng = np.random.default_rng(3)\n",
    "print(\"Python:\", sys.version.split()[0])"
   ]
  },
  {
   "cell_type": "code",
   "execution_count": 65,
   "id": "153bb743",
   "metadata": {},
   "outputs": [
    {
     "data": {
      "text/plain": [
       "((6, 7), (2, 7), 7)"
      ]
     },
     "execution_count": 65,
     "metadata": {},
     "output_type": "execute_result"
    }
   ],
   "source": [
    "path = \"data/day3_features.csv\"\n",
    "assert os.path.exists(path), f\"Missing {path}. Run the EDA/feature notebook first.\"\n",
    "\n",
    "dfp = pd.read_csv(path)\n",
    "\n",
    "feature_cols = [c for c in dfp.columns if c.startswith(\"x_\")]\n",
    "X_train = dfp.loc[dfp[\"split\"]==\"train\", feature_cols].to_numpy()\n",
    "y_train = dfp.loc[dfp[\"split\"]==\"train\", \"y\"].to_numpy().astype(int)\n",
    "\n",
    "X_test  = dfp.loc[dfp[\"split\"]==\"test\", feature_cols].to_numpy()\n",
    "y_test  = dfp.loc[dfp[\"split\"]==\"test\", \"y\"].to_numpy().astype(int)\n",
    "\n",
    "X_train.shape, X_test.shape, len(feature_cols)"
   ]
  },
  {
   "cell_type": "code",
   "execution_count": 66,
   "id": "12c87672",
   "metadata": {},
   "outputs": [
    {
     "name": "stdout",
     "output_type": "stream",
     "text": [
      "Baseline accuracy: 1.0\n"
     ]
    }
   ],
   "source": [
    "baseline = DummyClassifier(strategy=\"most_frequent\")\n",
    "baseline.fit(X_train, y_train)\n",
    "\n",
    "yhat_base = baseline.predict(X_test)\n",
    "acc_base = accuracy_score(y_test, yhat_base)\n",
    "print(\"Baseline accuracy:\", round(acc_base, 3))"
   ]
  },
  {
   "cell_type": "code",
   "execution_count": 67,
   "id": "11ca0985",
   "metadata": {},
   "outputs": [
    {
     "name": "stdout",
     "output_type": "stream",
     "text": [
      "LogReg accuracy (0.5 threshold): 0.5\n"
     ]
    }
   ],
   "source": [
    "logreg = LogisticRegression(max_iter=1000, solver=\"lbfgs\")\n",
    "logreg.fit(X_train, y_train)\n",
    "\n",
    "y_proba_tr = logreg.predict_proba(X_train)[:, 1]\n",
    "y_proba_te = logreg.predict_proba(X_test)[:, 1]\n",
    "\n",
    "yhat_default = (y_proba_te >= 0.5).astype(int)\n",
    "acc_lr = accuracy_score(y_test, yhat_default)\n",
    "print(\"LogReg accuracy (0.5 threshold):\", round(acc_lr, 3))"
   ]
  },
  {
   "cell_type": "code",
   "execution_count": 68,
   "id": "85451ebe",
   "metadata": {},
   "outputs": [
    {
     "data": {
      "text/html": [
       "<div>\n",
       "<style scoped>\n",
       "    .dataframe tbody tr th:only-of-type {\n",
       "        vertical-align: middle;\n",
       "    }\n",
       "\n",
       "    .dataframe tbody tr th {\n",
       "        vertical-align: top;\n",
       "    }\n",
       "\n",
       "    .dataframe thead th {\n",
       "        text-align: right;\n",
       "    }\n",
       "</style>\n",
       "<table border=\"1\" class=\"dataframe\">\n",
       "  <thead>\n",
       "    <tr style=\"text-align: right;\">\n",
       "      <th></th>\n",
       "      <th>Pred 0</th>\n",
       "      <th>Pred 1</th>\n",
       "    </tr>\n",
       "  </thead>\n",
       "  <tbody>\n",
       "    <tr>\n",
       "      <th>True 0</th>\n",
       "      <td>1</td>\n",
       "      <td>1</td>\n",
       "    </tr>\n",
       "    <tr>\n",
       "      <th>True 1</th>\n",
       "      <td>0</td>\n",
       "      <td>0</td>\n",
       "    </tr>\n",
       "  </tbody>\n",
       "</table>\n",
       "</div>"
      ],
      "text/plain": [
       "        Pred 0  Pred 1\n",
       "True 0       1       1\n",
       "True 1       0       0"
      ]
     },
     "execution_count": 68,
     "metadata": {},
     "output_type": "execute_result"
    }
   ],
   "source": [
    "cm = confusion_matrix(y_test, yhat_default)\n",
    "pd.DataFrame(cm, index=[\"True 0\",\"True 1\"], columns=[\"Pred 0\",\"Pred 1\"])"
   ]
  },
  {
   "cell_type": "code",
   "execution_count": 69,
   "id": "9dd4bfd6",
   "metadata": {},
   "outputs": [],
   "source": [
    "# Build features/target and a Logistic Regression pipeline\n",
    "import os, sqlite3, numpy as np, pandas as pd\n",
    "from sklearn.preprocessing import OneHotEncoder, StandardScaler\n",
    "from sklearn.compose import ColumnTransformer\n",
    "from sklearn.pipeline import Pipeline\n",
    "from sklearn.linear_model import LogisticRegression\n",
    "\n",
    "# If df isn't defined yet, load it from the Day 3 hr.db\n",
    "if \"df\" not in globals():\n",
    "    db_path = \"data/hr.db\"\n",
    "    assert os.path.exists(db_path), f\"Database not found at {db_path}\"\n",
    "    with sqlite3.connect(db_path) as conn:\n",
    "        df = pd.read_sql_query(\"SELECT * FROM employees\", conn)\n",
    "\n",
    "# Features/target\n",
    "numeric_cols = [\"age\", \"years_at_company\", \"monthly_income\"]\n",
    "categorical_cols = [\"dept\"]\n",
    "X = df[numeric_cols + categorical_cols]\n",
    "y = df[\"left_company\"].to_numpy()\n",
    "\n",
    "# Preprocess + model\n",
    "pre = ColumnTransformer(\n",
    "    transformers=[\n",
    "        (\"num\", StandardScaler(), numeric_cols),\n",
    "        (\"cat\", OneHotEncoder(handle_unknown=\"ignore\"), categorical_cols),\n",
    "    ]\n",
    ")\n",
    "clf = Pipeline(steps=[\n",
    "    (\"pre\", pre),\n",
    "    (\"logreg\", LogisticRegression(max_iter=1000))\n",
    "])"
   ]
  },
  {
   "cell_type": "code",
   "execution_count": 70,
   "id": "0b2d53b7",
   "metadata": {},
   "outputs": [
    {
     "data": {
      "image/png": "[encoded data removed]",
      "text/plain": [
       "<Figure size 1000x400 with 2 Axes>"
      ]
     },
     "metadata": {},
     "output_type": "display_data"
    }
   ],
   "source": [
    "from sklearn.model_selection import StratifiedKFold, cross_val_predict\n",
    "from sklearn.metrics import roc_curve, auc, precision_recall_curve, average_precision_score\n",
    "import matplotlib.pyplot as plt\n",
    "\n",
    "# Pick a safe n_splits given class counts\n",
    "min_class = int(df[\"left_company\"].value_counts().min())  # = 3 on your toy data\n",
    "n_splits = max(2, min(3, min_class))  # 2 or 3 folds are safe here\n",
    "\n",
    "cv = StratifiedKFold(n_splits=n_splits, shuffle=True, random_state=0)\n",
    "proba_oof = cross_val_predict(clf, X, y, cv=cv, method=\"predict_proba\")[:, 1]\n",
    "\n",
    "# ROC & PR from OOF predictions\n",
    "fpr, tpr, _ = roc_curve(y, proba_oof)\n",
    "roc_auc = auc(fpr, tpr)\n",
    "\n",
    "prec, rec, _ = precision_recall_curve(y, proba_oof)\n",
    "ap = average_precision_score(y, proba_oof)\n",
    "\n",
    "# Plots\n",
    "plt.figure(figsize=(10, 4))\n",
    "\n",
    "plt.subplot(1, 2, 1)\n",
    "plt.plot(fpr, tpr, marker=\"o\", linewidth=1.5)\n",
    "plt.plot([0, 1], [0, 1], linestyle=\"--\", linewidth=1)\n",
    "plt.title(f\"ROC (AUC = {roc_auc:.3f})\")\n",
    "plt.xlabel(\"False Positive Rate\")\n",
    "plt.ylabel(\"True Positive Rate\")\n",
    "\n",
    "plt.subplot(1, 2, 2)\n",
    "plt.plot(rec, prec, marker=\"o\", linewidth=1.5)\n",
    "plt.title(f\"Precision–Recall (AP = {ap:.3f})\")\n",
    "plt.xlabel(\"Recall\")\n",
    "plt.ylabel(\"Precision\")\n",
    "\n",
    "plt.tight_layout()\n",
    "plt.show()"
   ]
  },
  {
   "cell_type": "code",
   "execution_count": 71,
   "id": "2500a9c9",
   "metadata": {},
   "outputs": [
    {
     "data": {
      "image/png": "[encoded data removed]",
      "text/plain": [
       "<Figure size 600x400 with 1 Axes>"
      ]
     },
     "metadata": {},
     "output_type": "display_data"
    }
   ],
   "source": [
    "# Robust Precision–Recall: use holdout if valid, else OOF CV fallback\n",
    "import numpy as np\n",
    "import pandas as pd\n",
    "import matplotlib.pyplot as plt\n",
    "from sklearn.model_selection import StratifiedKFold, cross_val_predict\n",
    "from sklearn.metrics import precision_recall_curve, average_precision_score\n",
    "\n",
    "def pr_curve_with_fallback(y_test, y_proba_te, X, y, clf):\n",
    "    y_test = np.asarray(y_test)\n",
    "    has_pos = (y_test.sum() > 0)\n",
    "    has_neg = (y_test.sum() < len(y_test))\n",
    "\n",
    "    if has_pos and has_neg:\n",
    "        y_true, y_scores, label = y_test, y_proba_te, \"Holdout\"\n",
    "    else:\n",
    "        # Tiny data: keep folds small but stratified\n",
    "        min_class = int(pd.Series(y).value_counts().min())\n",
    "        n_splits = max(2, min(3, min_class))\n",
    "        cv = StratifiedKFold(n_splits=n_splits, shuffle=True, random_state=0)\n",
    "        y_scores = cross_val_predict(clf, X, y, cv=cv, method=\"predict_proba\")[:, 1]\n",
    "        y_true, label = np.asarray(y), f\"OOF {n_splits}-fold\"\n",
    "\n",
    "    prec, rec, _ = precision_recall_curve(y_true, y_scores)\n",
    "    ap = average_precision_score(y_true, y_scores)\n",
    "\n",
    "    plt.figure(figsize=(6, 4))\n",
    "    plt.plot(rec, prec, marker=\"o\", linewidth=1.5, label=f\"{label} — AP={ap:.3f}\")\n",
    "    plt.xlabel(\"Recall\")\n",
    "    plt.ylabel(\"Precision\")\n",
    "    plt.title(\"Precision–Recall Curve\")\n",
    "    plt.legend(loc=\"lower left\")\n",
    "    plt.grid(True, alpha=0.3)\n",
    "    plt.tight_layout()\n",
    "    plt.show()\n",
    "\n",
    "# Call it (uses your existing variables X, y, clf, y_test, y_proba_te):\n",
    "pr_curve_with_fallback(y_test, y_proba_te, X, y, clf)"
   ]
  },
  {
   "cell_type": "code",
   "execution_count": 72,
   "id": "efd020ed",
   "metadata": {},
   "outputs": [
    {
     "name": "stdout",
     "output_type": "stream",
     "text": [
      "Best threshold on train (F1): 0.400 | F1(train)=1.000\n",
      "\n",
      "[Note] Holdout has a single class; falling back to OOF CV for a fairer estimate.\n",
      "Best threshold from OOF: 0.200 | F1(OOF)=0.750\n",
      "\n",
      "Classification report @ best threshold (OOF):\n",
      "\n",
      "              precision    recall  f1-score   support\n",
      "\n",
      "           0      1.000     0.600     0.750         5\n",
      "           1      0.600     1.000     0.750         3\n",
      "\n",
      "    accuracy                          0.750         8\n",
      "   macro avg      0.800     0.800     0.750         8\n",
      "weighted avg      0.850     0.750     0.750         8\n",
      "\n",
      "Confusion matrix (OOF):\n",
      " [[3 2]\n",
      " [0 3]]\n"
     ]
    }
   ],
   "source": [
    "import numpy as np\n",
    "from sklearn.metrics import f1_score, classification_report, confusion_matrix\n",
    "from sklearn.model_selection import StratifiedKFold, cross_val_predict\n",
    "\n",
    "def best_f1_threshold(y_true, y_score, grid=np.linspace(0.05, 0.95, 19)):\n",
    "    f1s = [f1_score(y_true, (y_score >= th).astype(int)) for th in grid]\n",
    "    best_idx = int(np.argmax(f1s))\n",
    "    return float(grid[best_idx]), float(f1s[best_idx])\n",
    "\n",
    "def evaluate_with_fallback(y_tr, proba_tr, y_te, proba_te, X_all, y_all, clf):\n",
    "    # Choose threshold on TRAIN (you could also choose via CV below)\n",
    "    th_tr, f1_tr = best_f1_threshold(y_tr, proba_tr)\n",
    "    print(f\"Best threshold on train (F1): {th_tr:.3f} | F1(train)={f1_tr:.3f}\")\n",
    "\n",
    "    has_pos = (np.sum(y_te) > 0)\n",
    "    has_neg = (np.sum(y_te) < len(y_te))\n",
    "\n",
    "    if has_pos and has_neg:\n",
    "        yhat = (proba_te >= th_tr).astype(int)\n",
    "        print(\"\\nClassification report @ best threshold (holdout):\\n\")\n",
    "        print(classification_report(y_te, yhat, labels=[0,1], digits=3, zero_division=0))\n",
    "        print(\"Confusion matrix (holdout):\\n\", confusion_matrix(y_te, yhat, labels=[0,1]))\n",
    "    else:\n",
    "        print(\"\\n[Note] Holdout has a single class; falling back to OOF CV for a fairer estimate.\")\n",
    "        # OOF predictions on ALL data\n",
    "        counts = np.bincount(y_all)\n",
    "        min_class = int(counts.min())\n",
    "        n_splits = max(2, min(3, min_class))  # keep folds small but valid\n",
    "        cv = StratifiedKFold(n_splits=n_splits, shuffle=True, random_state=0)\n",
    "        proba_oof = cross_val_predict(clf, X_all, y_all, cv=cv, method=\"predict_proba\")[:, 1]\n",
    "        th_cv, f1_cv = best_f1_threshold(y_all, proba_oof)\n",
    "        yhat_oof = (proba_oof >= th_cv).astype(int)\n",
    "        print(f\"Best threshold from OOF: {th_cv:.3f} | F1(OOF)={f1_cv:.3f}\")\n",
    "        print(\"\\nClassification report @ best threshold (OOF):\\n\")\n",
    "        print(classification_report(y_all, yhat_oof, labels=[0,1], digits=3, zero_division=0))\n",
    "        print(\"Confusion matrix (OOF):\\n\", confusion_matrix(y_all, yhat_oof, labels=[0,1]))\n",
    "\n",
    "# Run it (uses your existing variables X, y, clf, y_train, y_proba_tr, y_test, y_proba_te):\n",
    "evaluate_with_fallback(y_train, y_proba_tr, y_test, y_proba_te, X, y, clf)"
   ]
  },
  {
   "cell_type": "markdown",
   "id": "bac94eff",
   "metadata": {},
   "source": [
    "**Summary**\n",
    "- Baseline vs Logistic Regression performance compared\n",
    "- Curves (ROC / PR) visualize ranking quality\n",
    "- Tuned decision threshold for F1 (train) and evaluated on test\n",
    "\n",
    "**Next**\n",
    "- Try feature ablations or interaction terms\n",
    "- Compare other models (e.g., tree-based) using the same feature table"
   ]
  }
 ],
 "metadata": {
  "kernelspec": {
   "display_name": "Python 3 (ipykernel)",
   "language": "python",
   "name": "python3"
  },
  "language_info": {
   "codemirror_mode": {
    "name": "ipython",
    "version": 3
   },
   "file_extension": ".py",
   "mimetype": "text/x-python",
   "name": "python",
   "nbconvert_exporter": "python",
   "pygments_lexer": "ipython3",
   "version": "3.13.7"
  }
 },
 "nbformat": 4,
 "nbformat_minor": 5
}
