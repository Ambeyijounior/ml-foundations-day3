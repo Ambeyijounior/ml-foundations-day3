{
 "cells": [
  {
   "cell_type": "markdown",
   "id": "9a33e5d8",
   "metadata": {},
   "source": [
    "# Day 3 — Baselines & Metrics\n",
    "\n",
    "**Goals:**\n",
    "- Train logistic baseline\n",
    "- Confusion matrix/ROC/PR\n",
    "- Calibrate probability threshold"
   ]
  },
  {
   "cell_type": "code",
   "execution_count": null,
   "id": "d168db8d",
   "metadata": {},
   "outputs": [],
   "source": [
    "import sys, numpy as np, pandas as pd, matplotlib.pyplot as plt, seaborn as sns\n",
    "rng = np.random.default_rng(0)\n",
    "print('Python:', sys.version.split()[0])"
   ]
  }
 ],
 "metadata": {},
 "nbformat": 4,
 "nbformat_minor": 5
}
