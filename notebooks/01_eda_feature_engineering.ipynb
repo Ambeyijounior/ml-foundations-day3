{
 "cells": [
  {
   "cell_type": "markdown",
   "id": "7c28ace3",
   "metadata": {},
   "source": [
    "# Day 3 — Churn EDA & Feature Engineering\n",
    "\n",
    "**Goals:**\n",
    "- Load data (reuse hr.db or CSV)\n",
    "- Explore distributions/slices\n",
    "- Create features (scaling/encoding)"
   ]
  },
  {
   "cell_type": "code",
   "execution_count": null,
   "id": "a51f56d6",
   "metadata": {},
   "outputs": [],
   "source": [
    "import sys, numpy as np, pandas as pd, matplotlib.pyplot as plt, seaborn as sns\n",
    "rng = np.random.default_rng(0)\n",
    "print('Python:', sys.version.split()[0])"
   ]
  }
 ],
 "metadata": {},
 "nbformat": 4,
 "nbformat_minor": 5
}
